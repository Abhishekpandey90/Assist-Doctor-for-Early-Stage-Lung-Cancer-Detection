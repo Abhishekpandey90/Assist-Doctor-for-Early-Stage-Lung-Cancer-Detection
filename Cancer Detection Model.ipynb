{
 "cells": [
  {
   "cell_type": "code",
   "execution_count": 1,
   "metadata": {
    "_cell_guid": "b1076dfc-b9ad-4769-8c92-a6c4dae69d19",
    "_uuid": "8f2839f25d086af736a60e9eeb907d3b93b6e0e5",
    "execution": {
     "iopub.execute_input": "2021-05-23T11:41:49.180928Z",
     "iopub.status.busy": "2021-05-23T11:41:49.180589Z",
     "iopub.status.idle": "2021-05-23T11:41:49.192937Z",
     "shell.execute_reply": "2021-05-23T11:41:49.191744Z",
     "shell.execute_reply.started": "2021-05-23T11:41:49.180864Z"
    }
   },
   "outputs": [
    {
     "name": "stderr",
     "output_type": "stream",
     "text": [
      "Using TensorFlow backend.\n",
      "/opt/conda/lib/python3.6/site-packages/tensorflow/python/framework/dtypes.py:516: FutureWarning: Passing (type, 1) or '1type' as a synonym of type is deprecated; in a future version of numpy, it will be understood as (type, (1,)) / '(1,)type'.\n",
      "  _np_qint8 = np.dtype([(\"qint8\", np.int8, 1)])\n",
      "/opt/conda/lib/python3.6/site-packages/tensorflow/python/framework/dtypes.py:517: FutureWarning: Passing (type, 1) or '1type' as a synonym of type is deprecated; in a future version of numpy, it will be understood as (type, (1,)) / '(1,)type'.\n",
      "  _np_quint8 = np.dtype([(\"quint8\", np.uint8, 1)])\n",
      "/opt/conda/lib/python3.6/site-packages/tensorflow/python/framework/dtypes.py:518: FutureWarning: Passing (type, 1) or '1type' as a synonym of type is deprecated; in a future version of numpy, it will be understood as (type, (1,)) / '(1,)type'.\n",
      "  _np_qint16 = np.dtype([(\"qint16\", np.int16, 1)])\n",
      "/opt/conda/lib/python3.6/site-packages/tensorflow/python/framework/dtypes.py:519: FutureWarning: Passing (type, 1) or '1type' as a synonym of type is deprecated; in a future version of numpy, it will be understood as (type, (1,)) / '(1,)type'.\n",
      "  _np_quint16 = np.dtype([(\"quint16\", np.uint16, 1)])\n",
      "/opt/conda/lib/python3.6/site-packages/tensorflow/python/framework/dtypes.py:520: FutureWarning: Passing (type, 1) or '1type' as a synonym of type is deprecated; in a future version of numpy, it will be understood as (type, (1,)) / '(1,)type'.\n",
      "  _np_qint32 = np.dtype([(\"qint32\", np.int32, 1)])\n",
      "/opt/conda/lib/python3.6/site-packages/tensorflow/python/framework/dtypes.py:525: FutureWarning: Passing (type, 1) or '1type' as a synonym of type is deprecated; in a future version of numpy, it will be understood as (type, (1,)) / '(1,)type'.\n",
      "  np_resource = np.dtype([(\"resource\", np.ubyte, 1)])\n",
      "/opt/conda/lib/python3.6/site-packages/tensorboard/compat/tensorflow_stub/dtypes.py:541: FutureWarning: Passing (type, 1) or '1type' as a synonym of type is deprecated; in a future version of numpy, it will be understood as (type, (1,)) / '(1,)type'.\n",
      "  _np_qint8 = np.dtype([(\"qint8\", np.int8, 1)])\n",
      "/opt/conda/lib/python3.6/site-packages/tensorboard/compat/tensorflow_stub/dtypes.py:542: FutureWarning: Passing (type, 1) or '1type' as a synonym of type is deprecated; in a future version of numpy, it will be understood as (type, (1,)) / '(1,)type'.\n",
      "  _np_quint8 = np.dtype([(\"quint8\", np.uint8, 1)])\n",
      "/opt/conda/lib/python3.6/site-packages/tensorboard/compat/tensorflow_stub/dtypes.py:543: FutureWarning: Passing (type, 1) or '1type' as a synonym of type is deprecated; in a future version of numpy, it will be understood as (type, (1,)) / '(1,)type'.\n",
      "  _np_qint16 = np.dtype([(\"qint16\", np.int16, 1)])\n",
      "/opt/conda/lib/python3.6/site-packages/tensorboard/compat/tensorflow_stub/dtypes.py:544: FutureWarning: Passing (type, 1) or '1type' as a synonym of type is deprecated; in a future version of numpy, it will be understood as (type, (1,)) / '(1,)type'.\n",
      "  _np_quint16 = np.dtype([(\"quint16\", np.uint16, 1)])\n",
      "/opt/conda/lib/python3.6/site-packages/tensorboard/compat/tensorflow_stub/dtypes.py:545: FutureWarning: Passing (type, 1) or '1type' as a synonym of type is deprecated; in a future version of numpy, it will be understood as (type, (1,)) / '(1,)type'.\n",
      "  _np_qint32 = np.dtype([(\"qint32\", np.int32, 1)])\n",
      "/opt/conda/lib/python3.6/site-packages/tensorboard/compat/tensorflow_stub/dtypes.py:550: FutureWarning: Passing (type, 1) or '1type' as a synonym of type is deprecated; in a future version of numpy, it will be understood as (type, (1,)) / '(1,)type'.\n",
      "  np_resource = np.dtype([(\"resource\", np.ubyte, 1)])\n"
     ]
    }
   ],
   "source": [
    "from __future__ import print_function\n",
    "from keras import backend as K\n",
    "from keras import activations\n",
    "from keras import utils\n",
    "from keras.models import Model\n",
    "from keras.layers import *\n",
    "from keras.preprocessing.image import ImageDataGenerator\n",
    "from keras.applications.vgg16 import VGG16, preprocess_input\n",
    "from keras.optimizers import RMSprop, Adam, SGD, Nadam\n",
    "from keras.preprocessing.image import ImageDataGenerator\n",
    "from keras.callbacks import ReduceLROnPlateau, ModelCheckpoint, EarlyStopping\n",
    "from keras import regularizers\n",
    "from glob import glob\n",
    "import seaborn as sns\n",
    "\n",
    "import numpy as np\n",
    "import pandas as pd\n",
    "import matplotlib.pyplot as plt\n",
    "import os\n",
    "\n",
    "IMG_SIZE = 299\n",
    "from sklearn.metrics import classification_report, confusion_matrix\n",
    "from keras.utils import to_categorical\n",
    "from sklearn import datasets\n",
    "from sklearn.tree import DecisionTreeClassifier\n",
    "from sklearn.model_selection import train_test_split"
   ]
  },
  {
   "cell_type": "code",
   "execution_count": 2,
   "metadata": {
    "_cell_guid": "79c7e3d0-c299-4dcb-8224-4455121ee9b0",
    "_uuid": "d629ff2d2480ee46fbb7e2d37f6b5fab8052498a",
    "execution": {
     "iopub.execute_input": "2021-05-23T11:26:33.648784Z",
     "iopub.status.busy": "2021-05-23T11:26:33.648453Z",
     "iopub.status.idle": "2021-05-23T11:26:33.661473Z",
     "shell.execute_reply": "2021-05-23T11:26:33.660345Z",
     "shell.execute_reply.started": "2021-05-23T11:26:33.648718Z"
    }
   },
   "outputs": [],
   "source": [
    "def DataGenerator(train_batch, val_batch, IMG_SIZE):\n",
    "    datagen = ImageDataGenerator(preprocessing_function=preprocess_input,\n",
    "                                 rescale=1./255,\n",
    "                                 rotation_range=10,\n",
    "                                 horizontal_flip=True,\n",
    "                                 vertical_flip=True)\n",
    "\n",
    "    datagen.mean=np.array([103.939, 116.779, 123.68],dtype=np.float32).reshape(1,1,3)\n",
    "\n",
    "    train_gen = datagen.flow_from_directory('../input/mydata/train',\n",
    "                                            target_size=(IMG_SIZE, IMG_SIZE),\n",
    "                                            color_mode='rgb', \n",
    "                                            class_mode='categorical',\n",
    "                                            batch_size=train_batch)\n",
    "\n",
    "    val_gen = datagen.flow_from_directory('../input/mydata/test', \n",
    "                                          target_size=(IMG_SIZE, IMG_SIZE),\n",
    "                                          color_mode='rgb', \n",
    "                                          class_mode='categorical',\n",
    "                                          batch_size=val_batch)\n",
    "\n",
    "    datagen = ImageDataGenerator(preprocessing_function=preprocess_input,\n",
    "                                 rescale=1./255)\n",
    "    \n",
    "    datagen.mean=np.array([103.939, 116.779, 123.68],dtype=np.float32).reshape(1,1,3)\n",
    "\n",
    "    test_gen = datagen.flow_from_directory('../input/mydata/test', \n",
    "                                           target_size=(IMG_SIZE, IMG_SIZE),\n",
    "                                           color_mode='rgb', \n",
    "                                           class_mode='categorical',\n",
    "                                           shuffle=False)\n",
    "    \n",
    "    return train_gen, val_gen, test_gen"
   ]
  },
  {
   "cell_type": "code",
   "execution_count": 3,
   "metadata": {
    "execution": {
     "iopub.execute_input": "2021-05-23T11:26:33.664298Z",
     "iopub.status.busy": "2021-05-23T11:26:33.663510Z",
     "iopub.status.idle": "2021-05-23T11:26:33.680170Z",
     "shell.execute_reply": "2021-05-23T11:26:33.678829Z",
     "shell.execute_reply.started": "2021-05-23T11:26:33.664189Z"
    }
   },
   "outputs": [],
   "source": [
    "# the squashing function.\n",
    "# we use 0.5 in stead of 1 in hinton's paper.\n",
    "# if 1, the norm of vector will be zoomed out.\n",
    "# if 0.5, the norm will be zoomed in while original norm is less than 0.5\n",
    "# and be zoomed out while original norm is greater than 0.5.\n",
    "def squash(x, axis=-1):\n",
    "    s_squared_norm = K.sum(K.square(x), axis, keepdims=True) + K.epsilon()\n",
    "    scale = K.sqrt(s_squared_norm) / (0.5 + s_squared_norm)\n",
    "    return scale * x"
   ]
  },
  {
   "cell_type": "code",
   "execution_count": 4,
   "metadata": {
    "execution": {
     "iopub.execute_input": "2021-05-23T11:26:33.683611Z",
     "iopub.status.busy": "2021-05-23T11:26:33.683234Z",
     "iopub.status.idle": "2021-05-23T11:26:33.697620Z",
     "shell.execute_reply": "2021-05-23T11:26:33.696367Z",
     "shell.execute_reply.started": "2021-05-23T11:26:33.683549Z"
    }
   },
   "outputs": [],
   "source": [
    "# define our own softmax function instead of K.softmax\n",
    "# because K.softmax can not specify axis.\n",
    "def softmax(x, axis=-1):\n",
    "    ex = K.exp(x - K.max(x, axis=axis, keepdims=True))\n",
    "    return ex / K.sum(ex, axis=axis, keepdims=True)"
   ]
  },
  {
   "cell_type": "code",
   "execution_count": 5,
   "metadata": {
    "execution": {
     "iopub.execute_input": "2021-05-23T11:26:33.704909Z",
     "iopub.status.busy": "2021-05-23T11:26:33.704559Z",
     "iopub.status.idle": "2021-05-23T11:26:33.714979Z",
     "shell.execute_reply": "2021-05-23T11:26:33.713828Z",
     "shell.execute_reply.started": "2021-05-23T11:26:33.704837Z"
    }
   },
   "outputs": [],
   "source": [
    "# define the margin loss like hinge loss\n",
    "def margin_loss(y_true, y_pred):\n",
    "    lamb, margin = 0.5, 0.1 #default lambda 0.5 - but test with lambda with 0.9 - 0.1\n",
    "    return K.sum(y_true * K.square(K.relu(1 - margin - y_pred)) + lamb * (\n",
    "        1 - y_true) * K.square(K.relu(y_pred - margin)), axis=-1)"
   ]
  },
  {
   "cell_type": "code",
   "execution_count": 6,
   "metadata": {
    "execution": {
     "iopub.execute_input": "2021-05-23T11:26:33.721078Z",
     "iopub.status.busy": "2021-05-23T11:26:33.720731Z",
     "iopub.status.idle": "2021-05-23T11:26:33.744127Z",
     "shell.execute_reply": "2021-05-23T11:26:33.742690Z",
     "shell.execute_reply.started": "2021-05-23T11:26:33.721008Z"
    }
   },
   "outputs": [],
   "source": [
    "class Capsule(Layer):\n",
    "    \"\"\"A Capsule Implement with Pure Keras\n",
    "    There are two vesions of Capsule.\n",
    "    One is like dense layer (for the fixed-shape input),\n",
    "    and the other is like timedistributed dense (for various length input).\n",
    "\n",
    "    The input shape of Capsule must be (batch_size,\n",
    "                                        input_num_capsule,\n",
    "                                        input_dim_capsule\n",
    "                                       )\n",
    "    and the output shape is (batch_size,\n",
    "                             num_capsule,\n",
    "                             dim_capsule\n",
    "                            )\n",
    "\n",
    "    Capsule Implement is from https://github.com/bojone/Capsule/\n",
    "    Capsule Paper: https://arxiv.org/abs/1710.09829\n",
    "    \"\"\"\n",
    "\n",
    "    def __init__(self,\n",
    "                 num_capsule,\n",
    "                 dim_capsule,\n",
    "                 routings=3, # Test number of routing with (1, 2, 3, 4) - Default = 3\n",
    "                 share_weights=True,\n",
    "                 activation='squash',\n",
    "                 **kwargs):\n",
    "        super(Capsule, self).__init__(**kwargs)\n",
    "        self.num_capsule = num_capsule\n",
    "        self.dim_capsule = dim_capsule\n",
    "        self.routings = routings\n",
    "        self.share_weights = share_weights\n",
    "        if activation == 'squash':\n",
    "            self.activation = squash\n",
    "        else:\n",
    "            self.activation = activations.get(activation)\n",
    "\n",
    "    def build(self, input_shape):\n",
    "        input_dim_capsule = input_shape[-1]\n",
    "        if self.share_weights:\n",
    "            self.kernel = self.add_weight(\n",
    "                name='capsule_kernel',\n",
    "                shape=(1, input_dim_capsule,\n",
    "                       self.num_capsule * self.dim_capsule),\n",
    "                initializer='glorot_uniform',\n",
    "                trainable=True)\n",
    "        else:\n",
    "            input_num_capsule = input_shape[-2]\n",
    "            self.kernel = self.add_weight(\n",
    "                name='capsule_kernel',\n",
    "                shape=(input_num_capsule, input_dim_capsule,\n",
    "                       self.num_capsule * self.dim_capsule),\n",
    "                initializer='glorot_uniform',\n",
    "                trainable=True)\n",
    "\n",
    "    def call(self, inputs):\n",
    "        \"\"\"Following the routing algorithm from Hinton's paper,\n",
    "        but replace b = b + <u,v> with b = <u,v>.\n",
    "\n",
    "        This change can improve the feature representation of Capsule.\n",
    "\n",
    "        However, you can replace\n",
    "            b = K.batch_dot(outputs, hat_inputs, [2, 3])\n",
    "        with\n",
    "            b += K.batch_dot(outputs, hat_inputs, [2, 3])\n",
    "        to realize a standard routing.\n",
    "        \"\"\"\n",
    "\n",
    "        if self.share_weights:\n",
    "            hat_inputs = K.conv1d(inputs, self.kernel)\n",
    "        else:\n",
    "            hat_inputs = K.local_conv1d(inputs, self.kernel, [1], [1])\n",
    "\n",
    "        batch_size = K.shape(inputs)[0]\n",
    "        input_num_capsule = K.shape(inputs)[1]\n",
    "        hat_inputs = K.reshape(hat_inputs,\n",
    "                               (batch_size, input_num_capsule,\n",
    "                                self.num_capsule, self.dim_capsule))\n",
    "        hat_inputs = K.permute_dimensions(hat_inputs, (0, 2, 1, 3))\n",
    "\n",
    "        b = K.zeros_like(hat_inputs[:, :, :, 0])\n",
    "        for i in range(self.routings):\n",
    "            c = softmax(b, 1)\n",
    "            o = self.activation(K.batch_dot(c, hat_inputs, [2, 2]))\n",
    "            if i < self.routings - 1:\n",
    "                b = K.batch_dot(o, hat_inputs, [2, 3])\n",
    "                if K.backend() == 'theano':\n",
    "                    o = K.sum(o, axis=1)\n",
    "\n",
    "        return o\n",
    "\n",
    "    def compute_output_shape(self, input_shape):\n",
    "        return (None, self.num_capsule, self.dim_capsule)"
   ]
  },
  {
   "cell_type": "code",
   "execution_count": 7,
   "metadata": {
    "execution": {
     "iopub.execute_input": "2021-05-23T11:26:33.746740Z",
     "iopub.status.busy": "2021-05-23T11:26:33.746107Z",
     "iopub.status.idle": "2021-05-23T11:26:34.091413Z",
     "shell.execute_reply": "2021-05-23T11:26:34.090230Z",
     "shell.execute_reply.started": "2021-05-23T11:26:33.746661Z"
    }
   },
   "outputs": [
    {
     "name": "stdout",
     "output_type": "stream",
     "text": [
      "Found 343 images belonging to 2 classes.\n",
      "Found 174 images belonging to 2 classes.\n",
      "Found 174 images belonging to 2 classes.\n"
     ]
    }
   ],
   "source": [
    "train_batch = 32\n",
    "val_batch = 1\n",
    "\n",
    "train, val, test = DataGenerator(train_batch, val_batch, IMG_SIZE)"
   ]
  },
  {
   "cell_type": "code",
   "execution_count": 8,
   "metadata": {
    "execution": {
     "iopub.execute_input": "2021-05-23T11:26:34.094455Z",
     "iopub.status.busy": "2021-05-23T11:26:34.093723Z",
     "iopub.status.idle": "2021-05-23T11:26:39.263002Z",
     "shell.execute_reply": "2021-05-23T11:26:39.262022Z",
     "shell.execute_reply.started": "2021-05-23T11:26:34.094389Z"
    }
   },
   "outputs": [
    {
     "name": "stdout",
     "output_type": "stream",
     "text": [
      "Downloading data from https://github.com/fchollet/deep-learning-models/releases/download/v0.1/vgg16_weights_tf_dim_ordering_tf_kernels_notop.h5\n",
      "58892288/58889256 [==============================] - 1s 0us/step\n",
      "_________________________________________________________________\n",
      "Layer (type)                 Output Shape              Param #   \n",
      "=================================================================\n",
      "input_1 (InputLayer)         (None, 299, 299, 3)       0         \n",
      "_________________________________________________________________\n",
      "block1_conv1 (Conv2D)        (None, 299, 299, 64)      1792      \n",
      "_________________________________________________________________\n",
      "block1_conv2 (Conv2D)        (None, 299, 299, 64)      36928     \n",
      "_________________________________________________________________\n",
      "block1_pool (MaxPooling2D)   (None, 149, 149, 64)      0         \n",
      "_________________________________________________________________\n",
      "block2_conv1 (Conv2D)        (None, 149, 149, 128)     73856     \n",
      "_________________________________________________________________\n",
      "block2_conv2 (Conv2D)        (None, 149, 149, 128)     147584    \n",
      "_________________________________________________________________\n",
      "block2_pool (MaxPooling2D)   (None, 74, 74, 128)       0         \n",
      "_________________________________________________________________\n",
      "block3_conv1 (Conv2D)        (None, 74, 74, 256)       295168    \n",
      "_________________________________________________________________\n",
      "block3_conv2 (Conv2D)        (None, 74, 74, 256)       590080    \n",
      "_________________________________________________________________\n",
      "block3_conv3 (Conv2D)        (None, 74, 74, 256)       590080    \n",
      "_________________________________________________________________\n",
      "block3_pool (MaxPooling2D)   (None, 37, 37, 256)       0         \n",
      "_________________________________________________________________\n",
      "block4_conv1 (Conv2D)        (None, 37, 37, 512)       1180160   \n",
      "_________________________________________________________________\n",
      "block4_conv2 (Conv2D)        (None, 37, 37, 512)       2359808   \n",
      "_________________________________________________________________\n",
      "block4_conv3 (Conv2D)        (None, 37, 37, 512)       2359808   \n",
      "_________________________________________________________________\n",
      "block4_pool (MaxPooling2D)   (None, 18, 18, 512)       0         \n",
      "_________________________________________________________________\n",
      "block5_conv1 (Conv2D)        (None, 18, 18, 512)       2359808   \n",
      "_________________________________________________________________\n",
      "block5_conv2 (Conv2D)        (None, 18, 18, 512)       2359808   \n",
      "_________________________________________________________________\n",
      "block5_conv3 (Conv2D)        (None, 18, 18, 512)       2359808   \n",
      "_________________________________________________________________\n",
      "block5_pool (MaxPooling2D)   (None, 9, 9, 512)         0         \n",
      "=================================================================\n",
      "Total params: 14,714,688\n",
      "Trainable params: 14,714,688\n",
      "Non-trainable params: 0\n",
      "_________________________________________________________________\n"
     ]
    }
   ],
   "source": [
    "input_image = Input(shape=(IMG_SIZE, IMG_SIZE, 3))\n",
    "\n",
    "\n",
    "# A InceptionResNetV2 Conv2D model\n",
    "base_model = VGG16(include_top=False, weights='imagenet', input_tensor=input_image)\n",
    "\n",
    "base_model.summary()"
   ]
  },
  {
   "cell_type": "code",
   "execution_count": 9,
   "metadata": {
    "execution": {
     "iopub.execute_input": "2021-05-23T11:26:39.268095Z",
     "iopub.status.busy": "2021-05-23T11:26:39.267785Z",
     "iopub.status.idle": "2021-05-23T11:26:39.287297Z",
     "shell.execute_reply": "2021-05-23T11:26:39.286314Z",
     "shell.execute_reply.started": "2021-05-23T11:26:39.268035Z"
    }
   },
   "outputs": [
    {
     "name": "stdout",
     "output_type": "stream",
     "text": [
      "<keras.engine.input_layer.InputLayer object at 0x7fe3b8dc8780> False\n",
      "<keras.layers.convolutional.Conv2D object at 0x7fe3b8dc8d68> False\n",
      "<keras.layers.convolutional.Conv2D object at 0x7fe37521bb38> False\n",
      "<keras.layers.pooling.MaxPooling2D object at 0x7fe375224780> False\n",
      "<keras.layers.convolutional.Conv2D object at 0x7fe375224208> False\n",
      "<keras.layers.convolutional.Conv2D object at 0x7fe374759c88> False\n",
      "<keras.layers.pooling.MaxPooling2D object at 0x7fe3746f4cc0> False\n",
      "<keras.layers.convolutional.Conv2D object at 0x7fe3746f47f0> False\n",
      "<keras.layers.convolutional.Conv2D object at 0x7fe374725ba8> False\n",
      "<keras.layers.convolutional.Conv2D object at 0x7fe3746bfe80> False\n",
      "<keras.layers.pooling.MaxPooling2D object at 0x7fe374672080> False\n",
      "<keras.layers.convolutional.Conv2D object at 0x7fe3746d39b0> False\n",
      "<keras.layers.convolutional.Conv2D object at 0x7fe37468f0f0> False\n",
      "<keras.layers.convolutional.Conv2D object at 0x7fe3746a4a20> False\n",
      "<keras.layers.pooling.MaxPooling2D object at 0x7fe37463fef0> False\n",
      "<keras.layers.convolutional.Conv2D object at 0x7fe37465a6a0> False\n",
      "<keras.layers.convolutional.Conv2D object at 0x7fe37460b358> False\n",
      "<keras.layers.convolutional.Conv2D object at 0x7fe37460bc18> False\n",
      "<keras.layers.pooling.MaxPooling2D object at 0x7fe3745c3c88> False\n"
     ]
    }
   ],
   "source": [
    "for layer in base_model.layers:\n",
    "    layer.trainable = False\n",
    "    print(layer, layer.trainable)"
   ]
  },
  {
   "cell_type": "code",
   "execution_count": 10,
   "metadata": {
    "execution": {
     "iopub.execute_input": "2021-05-23T11:26:39.289163Z",
     "iopub.status.busy": "2021-05-23T11:26:39.288774Z",
     "iopub.status.idle": "2021-05-23T11:26:40.974905Z",
     "shell.execute_reply": "2021-05-23T11:26:40.973630Z",
     "shell.execute_reply.started": "2021-05-23T11:26:39.289099Z"
    }
   },
   "outputs": [
    {
     "name": "stdout",
     "output_type": "stream",
     "text": [
      "_________________________________________________________________\n",
      "Layer (type)                 Output Shape              Param #   \n",
      "=================================================================\n",
      "input_1 (InputLayer)         (None, 299, 299, 3)       0         \n",
      "_________________________________________________________________\n",
      "block1_conv1 (Conv2D)        (None, 299, 299, 64)      1792      \n",
      "_________________________________________________________________\n",
      "block1_conv2 (Conv2D)        (None, 299, 299, 64)      36928     \n",
      "_________________________________________________________________\n",
      "block1_pool (MaxPooling2D)   (None, 149, 149, 64)      0         \n",
      "_________________________________________________________________\n",
      "block2_conv1 (Conv2D)        (None, 149, 149, 128)     73856     \n",
      "_________________________________________________________________\n",
      "block2_conv2 (Conv2D)        (None, 149, 149, 128)     147584    \n",
      "_________________________________________________________________\n",
      "block2_pool (MaxPooling2D)   (None, 74, 74, 128)       0         \n",
      "_________________________________________________________________\n",
      "block3_conv1 (Conv2D)        (None, 74, 74, 256)       295168    \n",
      "_________________________________________________________________\n",
      "block3_conv2 (Conv2D)        (None, 74, 74, 256)       590080    \n",
      "_________________________________________________________________\n",
      "block3_conv3 (Conv2D)        (None, 74, 74, 256)       590080    \n",
      "_________________________________________________________________\n",
      "block3_pool (MaxPooling2D)   (None, 37, 37, 256)       0         \n",
      "_________________________________________________________________\n",
      "block4_conv1 (Conv2D)        (None, 37, 37, 512)       1180160   \n",
      "_________________________________________________________________\n",
      "block4_conv2 (Conv2D)        (None, 37, 37, 512)       2359808   \n",
      "_________________________________________________________________\n",
      "block4_conv3 (Conv2D)        (None, 37, 37, 512)       2359808   \n",
      "_________________________________________________________________\n",
      "block4_pool (MaxPooling2D)   (None, 18, 18, 512)       0         \n",
      "_________________________________________________________________\n",
      "block5_conv1 (Conv2D)        (None, 18, 18, 512)       2359808   \n",
      "_________________________________________________________________\n",
      "block5_conv2 (Conv2D)        (None, 18, 18, 512)       2359808   \n",
      "_________________________________________________________________\n",
      "block5_conv3 (Conv2D)        (None, 18, 18, 512)       2359808   \n",
      "_________________________________________________________________\n",
      "block5_pool (MaxPooling2D)   (None, 9, 9, 512)         0         \n",
      "_________________________________________________________________\n",
      "global_average_pooling2d_1 ( (None, 512)               0         \n",
      "_________________________________________________________________\n",
      "dense_1 (Dense)              (None, 4096)              2101248   \n",
      "_________________________________________________________________\n",
      "dropout_1 (Dropout)          (None, 4096)              0         \n",
      "_________________________________________________________________\n",
      "dense_2 (Dense)              (None, 2)                 8194      \n",
      "=================================================================\n",
      "Total params: 16,824,130\n",
      "Trainable params: 2,109,442\n",
      "Non-trainable params: 14,714,688\n",
      "_________________________________________________________________\n"
     ]
    }
   ],
   "source": [
    "x = GlobalAveragePooling2D()(base_model.output)\n",
    "x = Dense(4096, activation='relu')(x)\n",
    "x = Dropout(0.5)(x)\n",
    "output = Dense(2, activation='softmax')(x)\n",
    "\n",
    "model = Model(inputs=input_image, outputs=output)\n",
    "\n",
    "model.summary()\n",
    "#for plottting added\n",
    "from keras.utils.vis_utils import plot_model\n",
    "plot_model(model, to_file='VGG_07_03_21.png', show_shapes=True, show_layer_names=True)"
   ]
  },
  {
   "cell_type": "code",
   "execution_count": 11,
   "metadata": {
    "execution": {
     "iopub.execute_input": "2021-05-23T11:26:40.977420Z",
     "iopub.status.busy": "2021-05-23T11:26:40.977026Z",
     "iopub.status.idle": "2021-05-23T11:26:41.034815Z",
     "shell.execute_reply": "2021-05-23T11:26:41.033911Z",
     "shell.execute_reply.started": "2021-05-23T11:26:40.977344Z"
    }
   },
   "outputs": [],
   "source": [
    "lr=1e-4\n",
    "\n",
    "model.compile(loss='categorical_crossentropy', optimizer=RMSprop(lr=lr), metrics=['accuracy'])"
   ]
  },
  {
   "cell_type": "code",
   "execution_count": 12,
   "metadata": {
    "execution": {
     "iopub.execute_input": "2021-05-23T11:26:41.037767Z",
     "iopub.status.busy": "2021-05-23T11:26:41.036859Z",
     "iopub.status.idle": "2021-05-23T11:27:15.354366Z",
     "shell.execute_reply": "2021-05-23T11:27:15.353154Z",
     "shell.execute_reply.started": "2021-05-23T11:26:41.037398Z"
    }
   },
   "outputs": [
    {
     "name": "stdout",
     "output_type": "stream",
     "text": [
      "Epoch 1/1\n",
      "20/20 [==============================] - 25s 1s/step - loss: 0.5274 - acc: 0.7557 - val_loss: 0.4050 - val_acc: 0.9943\n",
      "\n",
      "\n",
      "================================\n",
      "\n",
      "\n",
      "Loss: 0.39334644565637084\n",
      "Accuracy: 99.43 %\n",
      "\n",
      "\n",
      "================================\n",
      "\n",
      "\n"
     ]
    }
   ],
   "source": [
    "history1=model.fit_generator(train,\n",
    "                    epochs=1,\n",
    "                    validation_data=val, \n",
    "                    validation_steps = len(val.classes)//val_batch,\n",
    "                    steps_per_epoch=(len(train.classes)//train_batch) * 2) \n",
    "    \n",
    "loss, acc = model.evaluate_generator(test, len(test))\n",
    "\n",
    "print (\"\\n\\n================================\\n\\n\")\n",
    "print (\"Loss: {}\".format(loss))\n",
    "print (\"Accuracy: {0:.2f} %\".format(acc * 100))\n",
    "print (\"\\n\\n================================\\n\\n\")\n",
    "\n",
    "\n",
    "test.reset()"
   ]
  },
  {
   "cell_type": "code",
   "execution_count": null,
   "metadata": {},
   "outputs": [],
   "source": []
  },
  {
   "cell_type": "code",
   "execution_count": 13,
   "metadata": {
    "execution": {
     "iopub.execute_input": "2021-05-23T11:27:15.360701Z",
     "iopub.status.busy": "2021-05-23T11:27:15.357650Z",
     "iopub.status.idle": "2021-05-23T11:27:15.370885Z",
     "shell.execute_reply": "2021-05-23T11:27:15.368683Z",
     "shell.execute_reply.started": "2021-05-23T11:27:15.360628Z"
    }
   },
   "outputs": [],
   "source": [
    "for i, layer in enumerate(model.layers):\n",
    "    if i < 15:\n",
    "        layer.trainable = False\n",
    "    else:\n",
    "        layer.trainable = True"
   ]
  },
  {
   "cell_type": "code",
   "execution_count": 14,
   "metadata": {
    "execution": {
     "iopub.execute_input": "2021-05-23T11:27:15.373438Z",
     "iopub.status.busy": "2021-05-23T11:27:15.372524Z",
     "iopub.status.idle": "2021-05-23T11:27:15.596655Z",
     "shell.execute_reply": "2021-05-23T11:27:15.595620Z",
     "shell.execute_reply.started": "2021-05-23T11:27:15.373371Z"
    }
   },
   "outputs": [],
   "source": [
    "model.compile(loss='categorical_crossentropy', optimizer=SGD(lr=lr, momentum=0.9), metrics=['accuracy'])"
   ]
  },
  {
   "cell_type": "code",
   "execution_count": 15,
   "metadata": {
    "execution": {
     "iopub.execute_input": "2021-05-23T11:27:15.599825Z",
     "iopub.status.busy": "2021-05-23T11:27:15.599150Z",
     "iopub.status.idle": "2021-05-23T11:30:54.492915Z",
     "shell.execute_reply": "2021-05-23T11:30:54.487786Z",
     "shell.execute_reply.started": "2021-05-23T11:27:15.599757Z"
    }
   },
   "outputs": [
    {
     "name": "stdout",
     "output_type": "stream",
     "text": [
      "Epoch 1/10\n",
      "20/20 [==============================] - 20s 1s/step - loss: 0.4004 - acc: 0.9054 - val_loss: 0.3581 - val_acc: 0.9943\n",
      "Epoch 2/10\n",
      "20/20 [==============================] - 17s 835ms/step - loss: 0.3726 - acc: 0.8813 - val_loss: 0.3189 - val_acc: 0.9943\n",
      "Epoch 3/10\n",
      "20/20 [==============================] - 16s 796ms/step - loss: 0.3233 - acc: 0.9101 - val_loss: 0.2771 - val_acc: 0.9943\n",
      "Epoch 4/10\n",
      "20/20 [==============================] - 17s 843ms/step - loss: 0.2966 - acc: 0.9019 - val_loss: 0.2476 - val_acc: 0.9943\n",
      "Epoch 5/10\n",
      "20/20 [==============================] - 16s 814ms/step - loss: 0.2721 - acc: 0.9085 - val_loss: 0.2146 - val_acc: 0.9943\n",
      "Epoch 6/10\n",
      "20/20 [==============================] - 17s 834ms/step - loss: 0.2614 - acc: 0.9089 - val_loss: 0.2000 - val_acc: 0.9943\n",
      "Epoch 7/10\n",
      "20/20 [==============================] - 16s 795ms/step - loss: 0.2435 - acc: 0.9214 - val_loss: 0.1923 - val_acc: 0.9943\n",
      "Epoch 8/10\n",
      "20/20 [==============================] - 17s 833ms/step - loss: 0.2195 - acc: 0.9337 - val_loss: 0.1872 - val_acc: 0.9943\n",
      "Epoch 9/10\n",
      "20/20 [==============================] - 16s 793ms/step - loss: 0.2314 - acc: 0.9216 - val_loss: 0.1626 - val_acc: 0.9943\n",
      "Epoch 10/10\n",
      "20/20 [==============================] - 16s 818ms/step - loss: 0.2058 - acc: 0.9409 - val_loss: 0.1762 - val_acc: 0.9885\n"
     ]
    },
    {
     "data": {
      "image/png": "[encoded data removed]",
      "text/plain": [
       "<Figure size 432x288 with 1 Axes>"
      ]
     },
     "metadata": {
      "needs_background": "light"
     },
     "output_type": "display_data"
    },
    {
     "data": {
      "image/png": "[encoded data removed]",
      "text/plain": [
       "<Figure size 432x288 with 1 Axes>"
      ]
     },
     "metadata": {
      "needs_background": "light"
     },
     "output_type": "display_data"
    },
    {
     "name": "stdout",
     "output_type": "stream",
     "text": [
      "\n",
      "\n",
      "================================\n",
      "\n",
      "\n",
      "Loss: 0.16560805713136992\n",
      "Accuracy: 98.28 %\n",
      "\n",
      "\n",
      "================================\n",
      "\n",
      "\n"
     ]
    }
   ],
   "source": [
    "model1=model.fit_generator(train,\n",
    "                    epochs=10,\n",
    "                    validation_data=val, \n",
    "                    validation_steps = len(val.classes)//val_batch,\n",
    "                    steps_per_epoch=(len(train.classes)//train_batch) * 2) \n",
    "    \n",
    "\n",
    "\n",
    "##for plottting addnew ____\n",
    "plt.plot(model1.history['acc'])\n",
    "plt.plot(model1.history['val_acc'])\n",
    "plt.title('VGG model validation accuracy')\n",
    "plt.ylabel('accuracy')\n",
    "plt.xlabel('epoch')\n",
    "plt.legend(['train', 'test'], loc='upper left')\n",
    "plt.show()\n",
    "# summarize history for loss\n",
    "plt.plot(model1.history['loss'])\n",
    "plt.plot(model1.history['val_loss'])\n",
    "plt.title('VGG model validation loss')\n",
    "plt.ylabel('loss')\n",
    "plt.xlabel('epoch')\n",
    "plt.legend(['train', 'test'], loc='upper left')\n",
    "plt.show()\n",
    "\n",
    "\n",
    "##-----------\n",
    "\n",
    "\n",
    "loss, acc = model.evaluate_generator(test, len(test))\n",
    "\n",
    "print (\"\\n\\n================================\\n\\n\")\n",
    "print (\"Loss: {}\".format(loss))\n",
    "print (\"Accuracy: {0:.2f} %\".format(acc * 100))\n",
    "print (\"\\n\\n================================\\n\\n\")\n",
    "test.reset()"
   ]
  },
  {
   "cell_type": "code",
   "execution_count": 16,
   "metadata": {
    "execution": {
     "iopub.execute_input": "2021-05-23T11:30:54.495934Z",
     "iopub.status.busy": "2021-05-23T11:30:54.495295Z",
     "iopub.status.idle": "2021-05-23T11:30:54.628981Z",
     "shell.execute_reply": "2021-05-23T11:30:54.627865Z",
     "shell.execute_reply.started": "2021-05-23T11:30:54.495707Z"
    }
   },
   "outputs": [
    {
     "name": "stdout",
     "output_type": "stream",
     "text": [
      "Found 174 images belonging to 2 classes.\n"
     ]
    }
   ],
   "source": [
    "datagen = ImageDataGenerator(preprocessing_function=preprocess_input,\n",
    "                                 rescale=1./255)\n",
    "    \n",
    "datagen.mean=np.array([103.939, 116.779, 123.68],dtype=np.float32).reshape(1,1,3)\n",
    "\n",
    "test_gen = datagen.flow_from_directory('../input/mydata/test', \n",
    "                                           target_size=(IMG_SIZE, IMG_SIZE),\n",
    "                                           color_mode='rgb', \n",
    "                                           class_mode='categorical',\n",
    "                                           shuffle=False)"
   ]
  },
  {
   "cell_type": "code",
   "execution_count": 17,
   "metadata": {
    "execution": {
     "iopub.execute_input": "2021-05-23T11:42:35.156180Z",
     "iopub.status.busy": "2021-05-23T11:42:35.155814Z",
     "iopub.status.idle": "2021-05-23T11:42:37.094496Z",
     "shell.execute_reply": "2021-05-23T11:42:37.092439Z",
     "shell.execute_reply.started": "2021-05-23T11:42:35.156117Z"
    }
   },
   "outputs": [
    {
     "name": "stdout",
     "output_type": "stream",
     "text": [
      "[0 0 0 0 0 0 0 0 1 0 0 0 0 0 0 0 0 1 0 0 0 0 0 0 0 0 0 0 0 0 0 0 0 0 0 0 0\n",
      " 0 0 0 0 0 0 0 0 0 0 0 0 0 0 0 0 0 0 0 0 0 0 0 0 0 0 0 0 0 0 0 0 0 0 0 0 0\n",
      " 0 0 0 0 0 0 0 0 0 0 0 0 0 0 0 0 0 0 0 0 0 0 0 0 0 0 0 0 0 0 0 0 0 0 0 0 0\n",
      " 0 0 0 0 0 0 0 0 0 1 1 1 1 1 1 1 1 1 1 1 1 1 1 1 1 1 1 1 1 1 1 1 1 0 1 1 1\n",
      " 1 1 1 1 1 1 1 1 1 1 1 1 1 1 1 1 1 1 1 1 1 1 1 1 1 1]\n",
      "Confusion Matrix\n",
      "Classification Report\n",
      "              precision    recall  f1-score   support\n",
      "\n",
      "      normal       0.99      0.98      0.99       120\n",
      "      cancer       0.96      0.98      0.97        54\n",
      "\n",
      "    accuracy                           0.98       174\n",
      "   macro avg       0.98      0.98      0.98       174\n",
      "weighted avg       0.98      0.98      0.98       174\n",
      "\n"
     ]
    }
   ],
   "source": [
    "Y_pred = model.predict_generator(test_gen, 174 // 32+1)\n",
    "y_pred = np.argmax(Y_pred, axis=1)\n",
    "print(y_pred)\n",
    "print('Confusion Matrix')\n",
    "#print(val_gen.classes)\n",
    "cm=confusion_matrix(test_gen.classes, y_pred)\n",
    "\n",
    "print('Classification Report')\n",
    "target_names = ['normal', 'cancer']\n",
    "print(classification_report(test_gen.classes, y_pred, target_names=target_names))"
   ]
  },
  {
   "cell_type": "code",
   "execution_count": 18,
   "metadata": {
    "execution": {
     "iopub.execute_input": "2021-05-23T11:42:41.268980Z",
     "iopub.status.busy": "2021-05-23T11:42:41.268630Z",
     "iopub.status.idle": "2021-05-23T11:42:41.716485Z",
     "shell.execute_reply": "2021-05-23T11:42:41.715252Z",
     "shell.execute_reply.started": "2021-05-23T11:42:41.268914Z"
    }
   },
   "outputs": [
    {
     "data": {
      "text/plain": [
       "<matplotlib.axes._subplots.AxesSubplot at 0x7fe36d5446a0>"
      ]
     },
     "execution_count": 18,
     "metadata": {},
     "output_type": "execute_result"
    },
    {
     "data": {
      "image/png": "[encoded data removed]",
      "text/plain": [
       "<Figure size 432x288 with 2 Axes>"
      ]
     },
     "metadata": {
      "needs_background": "light"
     },
     "output_type": "display_data"
    }
   ],
   "source": [
    "import seaborn as sns\n",
    "sns.heatmap(cm, annot=True, fmt='d',xticklabels=target_names, yticklabels=target_names)"
   ]
  },
  {
   "cell_type": "code",
   "execution_count": 19,
   "metadata": {
    "execution": {
     "iopub.execute_input": "2021-05-23T11:42:47.916974Z",
     "iopub.status.busy": "2021-05-23T11:42:47.916608Z",
     "iopub.status.idle": "2021-05-23T11:42:48.121764Z",
     "shell.execute_reply": "2021-05-23T11:42:48.116180Z",
     "shell.execute_reply.started": "2021-05-23T11:42:47.916912Z"
    }
   },
   "outputs": [
    {
     "name": "stdout",
     "output_type": "stream",
     "text": [
      "_________________________________________________________________\n",
      "Layer (type)                 Output Shape              Param #   \n",
      "=================================================================\n",
      "input_1 (InputLayer)         (None, 299, 299, 3)       0         \n",
      "_________________________________________________________________\n",
      "block1_conv1 (Conv2D)        (None, 299, 299, 64)      1792      \n",
      "_________________________________________________________________\n",
      "block1_conv2 (Conv2D)        (None, 299, 299, 64)      36928     \n",
      "_________________________________________________________________\n",
      "block1_pool (MaxPooling2D)   (None, 149, 149, 64)      0         \n",
      "_________________________________________________________________\n",
      "block2_conv1 (Conv2D)        (None, 149, 149, 128)     73856     \n",
      "_________________________________________________________________\n",
      "block2_conv2 (Conv2D)        (None, 149, 149, 128)     147584    \n",
      "_________________________________________________________________\n",
      "block2_pool (MaxPooling2D)   (None, 74, 74, 128)       0         \n",
      "_________________________________________________________________\n",
      "block3_conv1 (Conv2D)        (None, 74, 74, 256)       295168    \n",
      "_________________________________________________________________\n",
      "block3_conv2 (Conv2D)        (None, 74, 74, 256)       590080    \n",
      "_________________________________________________________________\n",
      "block3_conv3 (Conv2D)        (None, 74, 74, 256)       590080    \n",
      "_________________________________________________________________\n",
      "block3_pool (MaxPooling2D)   (None, 37, 37, 256)       0         \n",
      "_________________________________________________________________\n",
      "block4_conv1 (Conv2D)        (None, 37, 37, 512)       1180160   \n",
      "_________________________________________________________________\n",
      "block4_conv2 (Conv2D)        (None, 37, 37, 512)       2359808   \n",
      "_________________________________________________________________\n",
      "block4_conv3 (Conv2D)        (None, 37, 37, 512)       2359808   \n",
      "_________________________________________________________________\n",
      "block4_pool (MaxPooling2D)   (None, 18, 18, 512)       0         \n",
      "_________________________________________________________________\n",
      "block5_conv1 (Conv2D)        (None, 18, 18, 512)       2359808   \n",
      "_________________________________________________________________\n",
      "block5_conv2 (Conv2D)        (None, 18, 18, 512)       2359808   \n",
      "_________________________________________________________________\n",
      "block5_conv3 (Conv2D)        (None, 18, 18, 512)       2359808   \n",
      "_________________________________________________________________\n",
      "block5_pool (MaxPooling2D)   (None, 9, 9, 512)         0         \n",
      "_________________________________________________________________\n",
      "conv2d_1 (Conv2D)            (None, 1, 1, 256)         10617088  \n",
      "_________________________________________________________________\n",
      "reshape_1 (Reshape)          (None, 1, 256)            0         \n",
      "_________________________________________________________________\n",
      "capsule_1 (Capsule)          (None, 2, 16)             8192      \n",
      "_________________________________________________________________\n",
      "lambda_1 (Lambda)            (None, 2)                 0         \n",
      "=================================================================\n",
      "Total params: 25,339,968\n",
      "Trainable params: 17,704,704\n",
      "Non-trainable params: 7,635,264\n",
      "_________________________________________________________________\n"
     ]
    }
   ],
   "source": [
    "output = Conv2D(256, kernel_size=(9, 9), strides=(1, 1), activation='relu')(base_model.get_layer(name='block5_pool').output)\n",
    "\n",
    "x = Reshape((-1, 256))(output)\n",
    "capsule = Capsule(2, 16, 4, True)(x)\n",
    "output = Lambda(lambda z: K.sqrt(K.sum(K.square(z), 2)))(capsule)\n",
    "model = Model(inputs=input_image, outputs=output)\n",
    "\n",
    "model.summary()"
   ]
  },
  {
   "cell_type": "code",
   "execution_count": 20,
   "metadata": {
    "execution": {
     "iopub.execute_input": "2021-05-23T11:42:50.928401Z",
     "iopub.status.busy": "2021-05-23T11:42:50.928050Z",
     "iopub.status.idle": "2021-05-23T11:42:50.935248Z",
     "shell.execute_reply": "2021-05-23T11:42:50.934054Z",
     "shell.execute_reply.started": "2021-05-23T11:42:50.928326Z"
    }
   },
   "outputs": [],
   "source": [
    "lr=1e-4\n",
    "\n",
    "checkpoint = ModelCheckpoint(\"07_march_weights.h5\", \n",
    "                             monitor='val_loss', \n",
    "                             verbose=1, \n",
    "                             save_best_only=True, \n",
    "                             save_weights_only=False, \n",
    "                             mode='min')\n",
    "\n",
    "early = EarlyStopping(monitor='val_loss', patience=10, verbose=0, mode='min', restore_best_weights=True)\n",
    "\n",
    "callback_list = [checkpoint, early]"
   ]
  },
  {
   "cell_type": "code",
   "execution_count": 21,
   "metadata": {
    "execution": {
     "iopub.execute_input": "2021-05-23T11:42:56.549617Z",
     "iopub.status.busy": "2021-05-23T11:42:56.549153Z",
     "iopub.status.idle": "2021-05-23T11:45:17.878175Z",
     "shell.execute_reply": "2021-05-23T11:45:17.876927Z",
     "shell.execute_reply.started": "2021-05-23T11:42:56.549547Z"
    }
   },
   "outputs": [
    {
     "name": "stdout",
     "output_type": "stream",
     "text": [
      "Epoch 1/10\n",
      "10/10 [==============================] - 14s 1s/step - loss: 0.1576 - acc: 0.7973 - val_loss: 0.1290 - val_acc: 0.8218\n",
      "\n",
      "Epoch 00001: val_loss improved from inf to 0.12900, saving model to 07_march_weights.h5\n",
      "Epoch 2/10\n",
      "10/10 [==============================] - 9s 939ms/step - loss: 0.0576 - acc: 0.9331 - val_loss: 0.0219 - val_acc: 0.9885\n",
      "\n",
      "Epoch 00002: val_loss improved from 0.12900 to 0.02188, saving model to 07_march_weights.h5\n",
      "Epoch 3/10\n",
      "10/10 [==============================] - 10s 985ms/step - loss: 0.0429 - acc: 0.9539 - val_loss: 0.0175 - val_acc: 0.9943\n",
      "\n",
      "Epoch 00003: val_loss improved from 0.02188 to 0.01755, saving model to 07_march_weights.h5\n",
      "Epoch 4/10\n",
      "10/10 [==============================] - 10s 1s/step - loss: 0.0289 - acc: 0.9563 - val_loss: 0.0133 - val_acc: 0.9943\n",
      "\n",
      "Epoch 00004: val_loss improved from 0.01755 to 0.01326, saving model to 07_march_weights.h5\n",
      "Epoch 5/10\n",
      "10/10 [==============================] - 10s 1s/step - loss: 0.0255 - acc: 0.9843 - val_loss: 0.0132 - val_acc: 0.9885\n",
      "\n",
      "Epoch 00005: val_loss improved from 0.01326 to 0.01317, saving model to 07_march_weights.h5\n",
      "Epoch 6/10\n",
      "10/10 [==============================] - 10s 962ms/step - loss: 0.0282 - acc: 0.9801 - val_loss: 0.0415 - val_acc: 0.9425\n",
      "\n",
      "Epoch 00006: val_loss did not improve from 0.01317\n",
      "Epoch 7/10\n",
      "10/10 [==============================] - 10s 977ms/step - loss: 0.0210 - acc: 0.9716 - val_loss: 0.0112 - val_acc: 0.9943\n",
      "\n",
      "Epoch 00007: val_loss improved from 0.01317 to 0.01121, saving model to 07_march_weights.h5\n",
      "Epoch 8/10\n",
      "10/10 [==============================] - 10s 1s/step - loss: 0.0157 - acc: 0.9812 - val_loss: 0.0218 - val_acc: 0.9770\n",
      "\n",
      "Epoch 00008: val_loss did not improve from 0.01121\n",
      "Epoch 9/10\n",
      "10/10 [==============================] - 10s 982ms/step - loss: 0.0110 - acc: 0.9906 - val_loss: 0.0186 - val_acc: 0.9713\n",
      "\n",
      "Epoch 00009: val_loss did not improve from 0.01121\n",
      "Epoch 10/10\n",
      "10/10 [==============================] - 10s 984ms/step - loss: 0.0137 - acc: 0.9875 - val_loss: 0.0106 - val_acc: 0.9943\n",
      "\n",
      "Epoch 00010: val_loss improved from 0.01121 to 0.01055, saving model to 07_march_weights.h5\n"
     ]
    },
    {
     "data": {
      "image/png": "[encoded data removed]",
      "text/plain": [
       "<Figure size 432x288 with 1 Axes>"
      ]
     },
     "metadata": {
      "needs_background": "light"
     },
     "output_type": "display_data"
    },
    {
     "data": {
      "image/png": "[encoded data removed]",
      "text/plain": [
       "<Figure size 432x288 with 1 Axes>"
      ]
     },
     "metadata": {
      "needs_background": "light"
     },
     "output_type": "display_data"
    },
    {
     "name": "stdout",
     "output_type": "stream",
     "text": [
      "\n",
      "\n",
      "================================\n",
      "\n",
      "\n",
      "Loss: 0.007863507592289886\n",
      "Accuracy: 99.43 %\n",
      "\n",
      "\n",
      "================================\n",
      "\n",
      "\n"
     ]
    }
   ],
   "source": [
    "epochs=10   #change from 100 to 20\n",
    "\n",
    "model.compile(loss=margin_loss, optimizer=SGD(lr=lr, momentum=0.9), metrics=['accuracy'])\n",
    "\n",
    "model2=model.fit_generator(train,\n",
    "                    epochs=epochs,\n",
    "                    validation_data=val, \n",
    "                    validation_steps = len(val.classes)//val_batch,\n",
    "                    steps_per_epoch=len(train.classes)//train_batch,\n",
    "                    callbacks=callback_list)\n",
    "    \n",
    "\n",
    "\n",
    "##for plottting addnew ____\n",
    "plt.plot(model2.history['acc'])\n",
    "plt.plot(model2.history['val_acc'])\n",
    "plt.title('Capsule with VGG model validation accuracy')\n",
    "plt.ylabel('accuracy')\n",
    "plt.xlabel('epoch')\n",
    "plt.legend(['train', 'test'], loc='upper left')\n",
    "plt.show()\n",
    "# summarize history for loss\n",
    "plt.plot(model2.history['loss'])\n",
    "plt.plot(model2.history['val_loss'])\n",
    "plt.title('Capsule with VGG model validation loss')\n",
    "plt.ylabel('loss')\n",
    "plt.xlabel('epoch')\n",
    "plt.legend(['train', 'test'], loc='upper left')\n",
    "plt.show()\n",
    "\n",
    "\n",
    "##-----------\n",
    "loss, acc = model.evaluate_generator(test, len(test))\n",
    "\n",
    "print (\"\\n\\n================================\\n\\n\")\n",
    "print (\"Loss: {}\".format(loss))\n",
    "print (\"Accuracy: {0:.2f} %\".format(acc * 100))\n",
    "print (\"\\n\\n================================\\n\\n\")\n",
    "test.reset()"
   ]
  },
  {
   "cell_type": "code",
   "execution_count": 22,
   "metadata": {
    "execution": {
     "iopub.execute_input": "2021-05-23T11:45:45.377602Z",
     "iopub.status.busy": "2021-05-23T11:45:45.377218Z",
     "iopub.status.idle": "2021-05-23T11:45:45.383627Z",
     "shell.execute_reply": "2021-05-23T11:45:45.382289Z",
     "shell.execute_reply.started": "2021-05-23T11:45:45.377531Z"
    }
   },
   "outputs": [],
   "source": [
    "from sklearn.metrics import classification_report, confusion_matrix\n",
    "from keras.utils import to_categorical\n",
    "from sklearn import datasets\n",
    "from sklearn.tree import DecisionTreeClassifier\n",
    "from sklearn.model_selection import train_test_split"
   ]
  },
  {
   "cell_type": "code",
   "execution_count": 23,
   "metadata": {
    "execution": {
     "iopub.execute_input": "2021-05-23T11:45:47.746442Z",
     "iopub.status.busy": "2021-05-23T11:45:47.746093Z",
     "iopub.status.idle": "2021-05-23T11:45:47.870738Z",
     "shell.execute_reply": "2021-05-23T11:45:47.869183Z",
     "shell.execute_reply.started": "2021-05-23T11:45:47.746380Z"
    }
   },
   "outputs": [
    {
     "name": "stdout",
     "output_type": "stream",
     "text": [
      "Found 174 images belonging to 2 classes.\n"
     ]
    }
   ],
   "source": [
    "datagen = ImageDataGenerator(preprocessing_function=preprocess_input,\n",
    "                                 rescale=1./255)\n",
    "    \n",
    "datagen.mean=np.array([103.939, 116.779, 123.68],dtype=np.float32).reshape(1,1,3)\n",
    "\n",
    "test_gen = datagen.flow_from_directory('../input/mydata/test', \n",
    "                                           target_size=(IMG_SIZE, IMG_SIZE),\n",
    "                                           color_mode='rgb', \n",
    "                                           class_mode='categorical',\n",
    "                                           shuffle=False)"
   ]
  },
  {
   "cell_type": "code",
   "execution_count": 24,
   "metadata": {
    "execution": {
     "iopub.execute_input": "2021-05-23T11:45:49.632238Z",
     "iopub.status.busy": "2021-05-23T11:45:49.631640Z",
     "iopub.status.idle": "2021-05-23T11:45:51.779914Z",
     "shell.execute_reply": "2021-05-23T11:45:51.778655Z",
     "shell.execute_reply.started": "2021-05-23T11:45:49.632163Z"
    }
   },
   "outputs": [
    {
     "name": "stdout",
     "output_type": "stream",
     "text": [
      "[0 0 0 0 0 0 0 0 0 0 0 0 0 0 0 0 0 0 0 0 0 0 0 0 0 0 0 0 0 0 0 0 0 0 0 0 0\n",
      " 0 0 0 0 0 0 0 0 0 0 0 0 0 0 0 0 0 0 0 0 0 0 0 0 0 0 0 0 0 0 0 0 0 0 0 0 0\n",
      " 0 0 0 0 0 0 0 0 0 0 0 0 0 0 0 0 0 0 0 0 0 0 0 0 0 0 0 0 0 0 0 0 0 0 0 0 0\n",
      " 0 0 0 0 0 0 0 0 0 1 1 1 1 1 1 1 1 1 1 1 1 1 1 1 1 1 1 1 1 1 1 1 1 0 1 1 1\n",
      " 1 1 1 1 1 1 1 1 1 1 1 1 1 1 1 1 1 1 1 1 1 1 1 1 1 1]\n",
      "Confusion Matrix\n",
      "Classification Report\n",
      "              precision    recall  f1-score   support\n",
      "\n",
      "      normal       0.99      1.00      1.00       120\n",
      "      cancer       1.00      0.98      0.99        54\n",
      "\n",
      "    accuracy                           0.99       174\n",
      "   macro avg       1.00      0.99      0.99       174\n",
      "weighted avg       0.99      0.99      0.99       174\n",
      "\n"
     ]
    }
   ],
   "source": [
    "Y_pred = model.predict_generator(test_gen, 174 // 32+1)\n",
    "y_pred = np.argmax(Y_pred, axis=1)\n",
    "print(y_pred)\n",
    "print('Confusion Matrix')\n",
    "cm=confusion_matrix(test_gen.classes, y_pred)\n",
    "\n",
    "print('Classification Report')\n",
    "target_names = ['normal', 'cancer']\n",
    "print(classification_report(test_gen.classes, y_pred, target_names=target_names))"
   ]
  },
  {
   "cell_type": "code",
   "execution_count": 25,
   "metadata": {
    "execution": {
     "iopub.execute_input": "2021-05-23T11:45:55.764989Z",
     "iopub.status.busy": "2021-05-23T11:45:55.764645Z",
     "iopub.status.idle": "2021-05-23T11:45:56.128878Z",
     "shell.execute_reply": "2021-05-23T11:45:56.127545Z",
     "shell.execute_reply.started": "2021-05-23T11:45:55.764924Z"
    }
   },
   "outputs": [
    {
     "data": {
      "text/plain": [
       "<matplotlib.axes._subplots.AxesSubplot at 0x7fe36cc87da0>"
      ]
     },
     "execution_count": 25,
     "metadata": {},
     "output_type": "execute_result"
    },
    {
     "data": {
      "image/png": "[encoded data removed]",
      "text/plain": [
       "<Figure size 432x288 with 2 Axes>"
      ]
     },
     "metadata": {
      "needs_background": "light"
     },
     "output_type": "display_data"
    }
   ],
   "source": [
    "import seaborn as sns\n",
    "sns.heatmap(cm, annot=True, fmt='d',xticklabels=target_names, yticklabels=target_names)"
   ]
  },
  {
   "cell_type": "code",
   "execution_count": null,
   "metadata": {},
   "outputs": [],
   "source": []
  }
 ],
 "metadata": {
  "kernelspec": {
   "display_name": "Python 3",
   "language": "python",
   "name": "python3"
  },
  "language_info": {
   "codemirror_mode": {
    "name": "ipython",
    "version": 3
   },
   "file_extension": ".py",
   "mimetype": "text/x-python",
   "name": "python",
   "nbconvert_exporter": "python",
   "pygments_lexer": "ipython3",
   "version": "3.6.6"
  }
 },
 "nbformat": 4,
 "nbformat_minor": 4
}
